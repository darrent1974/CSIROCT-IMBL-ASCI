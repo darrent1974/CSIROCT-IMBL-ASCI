{
 "cells": [
  {
   "cell_type": "code",
   "execution_count": null,
   "metadata": {},
   "outputs": [],
   "source": [
    "import csiroct_imbl_asci as cia\n",
    "import os\n",
    "import os.path\n",
    "import logging\n",
    "import h5py\n",
    "import matplotlib.pyplot as plt\n",
    "\n",
    "run_on_asci = False\n",
    "\n",
    "dir_experiment_input_asci = '/user/home/imbl/14774/input/Lung_HRCT/19-2-R2202-Lung'\n",
    "dir_experiment_output_asci = '/user/home/imbl/14774/output/19-2-R2202-Lung'\n",
    "\n",
    "dir_experiment_input_local = '/mnt/csiro/civ/scratch/lung/CTXV/19-2-R2173'\n",
    "dir_experiment_output_local = '/mnt/Data/CTXV/19-2-R2173'\n",
    "\n",
    "if run_on_asci:\n",
    "    dir_experiment_input = dir_experiment_input_asci\n",
    "    dir_experiment_output = dir_experiment_output_asci\n",
    "    \n",
    "    cmdXLICTPreProcSino = '/opt/x-tract/bin/XLIPreProcSinoMPI'\n",
    "    cmdXLICTWorkflowMPI = '/opt/x-tract/bin/XLICTWorkflowMPI'\n",
    "    cmdXLICTReconMPI = '/opt/x-tract/bin/XLICTReconMPI'\n",
    "    cmdXLICOR = None\n",
    "    \n",
    "    # Read buffer size (GB) \n",
    "    read_buffer_gb = 100\n",
    "else:\n",
    "    dir_experiment_input = dir_experiment_input_local\n",
    "    dir_experiment_output = dir_experiment_output_local\n",
    "    \n",
    "    cmdXLICTPreProcSino = '/home/tho78s/development/X-TRACT-trunk/build/linux/XLIPreProcSinoMPI.exe'\n",
    "    cmdXLICTWorkflowMPI = '/home/tho78s/development/X-TRACT-trunk/build/linux/XLICTWorkflowMPI.exe'\n",
    "    cmdXLICTReconMPI = '/home/tho78s/development/X-TRACT-trunk/build/linux/XLICTReconMPI.exe'\n",
    "    cmdXLICOR = '/home/tho78s/development/X-TRACT-trunk/build/linux/XLICOR.exe'   \n",
    "    \n",
    "    # Read buffer size (GB)\n",
    "    read_buffer_gb = 20\n",
    "    \n",
    "# Create the output folder if it doesn't already exist\n",
    "if not os.path.exists( dir_experiment_output ):\n",
    "    os.mkdir( dir_experiment_output )\n",
    "    \n",
    "# construct filenames\n",
    "epics_flat_h5 = os.path.join( dir_experiment_input, 'BG_BEFORE.hdf' )\n",
    "epics_dark_h5 = os.path.join( dir_experiment_input, 'DF_BEFORE.hdf' )\n",
    "epics_sample_h5 = os.path.join( dir_experiment_input, 'SAMPLE.hdf' )\n",
    "\n",
    "# File prefix for converted files, a numerical suffix will be attached for each sample file\n",
    "xtract_input_converted_prefix_h5 = os.path.join( dir_experiment_output, 'test_xv_x-tract_converted_' )\n",
    "\n",
    "# The first converted XV dataset\n",
    "xtract_input_converted_00_h5 = os.path.join( dir_experiment_output, 'test_xv_x-tract_converted_00.h5' )\n",
    "\n",
    "xtract_output_ctworkflow_h5 = os.path.join( dir_experiment_output, 'test_xv_x-tract_ctworkflow.h5' ) \n",
    "xtract_output_preproc_h5 = os.path.join( dir_experiment_output, 'test__xv_x-tract_preproc.h5' )\n",
    "\n",
    "# Define the number of samples\n",
    "sample_sets = 15"
   ]
  },
  {
   "cell_type": "code",
   "execution_count": null,
   "metadata": {},
   "outputs": [],
   "source": [
    "# Convert input EPICS XV HDF5 files (if required)\n",
    "\n",
    "# Convert to X-TRACT compatible HDF5 using the same EPICS\n",
    "# test file for flats, darks and samples\n",
    "num_files = cia.convert_xv_to_xtract_hdf5(\n",
    "        epics_flat_h5,\n",
    "        epics_dark_h5,\n",
    "        epics_sample_h5,\n",
    "        xtract_input_converted_prefix_h5,\n",
    "        sample_sets=sample_sets,\n",
    "        read_buffer_gb=read_buffer_gb)\n",
    "\n",
    "print( 'Number of created sample files =', num_files )"
   ]
  },
  {
   "cell_type": "code",
   "execution_count": null,
   "metadata": {},
   "outputs": [],
   "source": [
    "# Display the first converted projection from the first XV dataset\n",
    "with h5py.File(xtract_input_converted_00_h5, 'r') as f:    \n",
    "    fig, ax = plt.subplots(figsize=(20, 15))\n",
    "    fig.colorbar( ax.imshow(f['exchange/data'][0] , cmap='gray'), ax=ax)  \n",
    "    plt.show()"
   ]
  }
 ],
 "metadata": {
  "kernelspec": {
   "display_name": "Python 3",
   "language": "python",
   "name": "python3"
  },
  "language_info": {
   "codemirror_mode": {
    "name": "ipython",
    "version": 3
   },
   "file_extension": ".py",
   "mimetype": "text/x-python",
   "name": "python",
   "nbconvert_exporter": "python",
   "pygments_lexer": "ipython3",
   "version": "3.6.7"
  }
 },
 "nbformat": 4,
 "nbformat_minor": 2
}
