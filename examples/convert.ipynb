{
 "cells": [
  {
   "cell_type": "code",
   "execution_count": 37,
   "metadata": {},
   "outputs": [],
   "source": [
    "import os.path\n",
    "import h5py\n",
    "import numpy as np\n",
    "import csiroct_imbl_asci as cia\n",
    "import matplotlib.pyplot as plt\n",
    "\n",
    "file_test_epics = 'test_epics.h5'\n",
    "file_test_xtract = 'test_x-tract_convert.h5'"
   ]
  },
  {
   "cell_type": "code",
   "execution_count": 40,
   "metadata": {},
   "outputs": [
    {
     "name": "stdout",
     "output_type": "stream",
     "text": [
      "arrEpics shape:  (100, 10, 10)\n"
     ]
    },
    {
     "data": {
      "image/png": "[encoded data removed]",
      "text/plain": [
       "<Figure size 432x288 with 2 Axes>"
      ]
     },
     "metadata": {
      "needs_background": "light"
     },
     "output_type": "display_data"
    }
   ],
   "source": [
    "with h5py.File(file_test_epics, 'r') as f_test_epics:\n",
    "    # Extract the dataset\n",
    "    arrEpics = np.array(f_test_epics['entry/data/data'])\n",
    "    \n",
    "    print('arrEpics shape: ',arrEpics.shape)\n",
    "\n",
    "    # Display the first 2D projection/image\n",
    "    fig, ax = plt.subplots()\n",
    "    fig.colorbar( ax.imshow(arrEpics[0] , cmap='gray'), ax=ax)  \n",
    "    plt.show()"
   ]
  },
  {
   "cell_type": "code",
   "execution_count": 39,
   "metadata": {},
   "outputs": [
    {
     "name": "stdout",
     "output_type": "stream",
     "text": [
      "Number of copied projections = 100\n"
     ]
    }
   ],
   "source": [
    "# Convert to X-TRACT compatible HDF5 using the same EPICS\n",
    "# test file for flats, darks and samples\n",
    "num_proj = cia.convert_epics_to_xtract_hdf5(\n",
    "        file_test_epics,\n",
    "        file_test_epics,\n",
    "        file_test_epics,\n",
    "        file_test_xtract)\n",
    "\n",
    "print( 'Number of copied projections =', num_proj )"
   ]
  },
  {
   "cell_type": "code",
   "execution_count": 41,
   "metadata": {},
   "outputs": [
    {
     "name": "stdout",
     "output_type": "stream",
     "text": [
      "exchange\n",
      "exchange/data\n",
      "exchange/data_dark\n",
      "exchange/data_flat\n",
      "arrXTRACT shape:  (100, 10, 10)\n"
     ]
    },
    {
     "data": {
      "image/png": "[encoded data removed]",
      "text/plain": [
       "<Figure size 432x288 with 2 Axes>"
      ]
     },
     "metadata": {
      "needs_background": "light"
     },
     "output_type": "display_data"
    }
   ],
   "source": [
    "with h5py.File(file_test_xtract, 'r') as f_test_xtract:\n",
    "    # Output names of items in the X-TRACT HDF5 file\n",
    "    f_test_xtract['/'].visit( lambda name: print(name) )\n",
    "    \n",
    "    arrXTRACT = np.array(f_test_xtract['exchange/data'])\n",
    "    \n",
    "    print('arrXTRACT shape: ',arrXTRACT.shape)\n",
    "    \n",
    "    # Display the first 2D projection/image\n",
    "    fig, ax = plt.subplots()\n",
    "    fig.colorbar( ax.imshow(arrEpics[0] , cmap='gray'), ax=ax)  \n",
    "    plt.show()"
   ]
  },
  {
   "cell_type": "code",
   "execution_count": 35,
   "metadata": {},
   "outputs": [
    {
     "name": "stdout",
     "output_type": "stream",
     "text": [
      "Number of copied projections = 9\n"
     ]
    }
   ],
   "source": [
    "# Convert to X-TRACT compatible HDF5 using the same EPICS\n",
    "# test file for flats, darks and samples\n",
    "# This time use striding to extract a subset\n",
    "# Get every 10th projection starting at index 10\n",
    "num_proj = cia.convert_epics_to_xtract_hdf5(\n",
    "        file_test_epics,\n",
    "        file_test_epics,\n",
    "        file_test_epics,\n",
    "        file_test_xtract,\n",
    "        sample_start=10,\n",
    "        sample_stride=10 )\n",
    "\n",
    "print( 'Number of copied projections =', num_proj )"
   ]
  },
  {
   "cell_type": "code",
   "execution_count": 42,
   "metadata": {},
   "outputs": [
    {
     "name": "stdout",
     "output_type": "stream",
     "text": [
      "exchange\n",
      "exchange/data\n",
      "exchange/data_dark\n",
      "exchange/data_flat\n",
      "arrXTRACT shape:  (100, 10, 10)\n"
     ]
    },
    {
     "data": {
      "image/png": "[encoded data removed]",
      "text/plain": [
       "<Figure size 432x288 with 2 Axes>"
      ]
     },
     "metadata": {
      "needs_background": "light"
     },
     "output_type": "display_data"
    }
   ],
   "source": [
    "with h5py.File(file_test_xtract, 'r') as f_test_xtract:\n",
    "    # Output names of items in the X-TRACT HDF5 file\n",
    "    f_test_xtract['/'].visit( lambda name: print(name) )\n",
    "    \n",
    "    arrXTRACT = np.array(f_test_xtract['exchange/data'])\n",
    "    \n",
    "    print('arrXTRACT shape: ',arrXTRACT.shape)\n",
    "    \n",
    "    # Display the first 2D projection/image\n",
    "    fig, ax = plt.subplots()\n",
    "    fig.colorbar( ax.imshow(arrEpics[0] , cmap='gray'), ax=ax)  \n",
    "    plt.show()"
   ]
  },
  {
   "cell_type": "code",
   "execution_count": null,
   "metadata": {},
   "outputs": [],
   "source": []
  }
 ],
 "metadata": {
  "kernelspec": {
   "display_name": "Python 3",
   "language": "python",
   "name": "python3"
  },
  "language_info": {
   "codemirror_mode": {
    "name": "ipython",
    "version": 3
   },
   "file_extension": ".py",
   "mimetype": "text/x-python",
   "name": "python",
   "nbconvert_exporter": "python",
   "pygments_lexer": "ipython3",
   "version": "3.6.5"
  }
 },
 "nbformat": 4,
 "nbformat_minor": 4
}
